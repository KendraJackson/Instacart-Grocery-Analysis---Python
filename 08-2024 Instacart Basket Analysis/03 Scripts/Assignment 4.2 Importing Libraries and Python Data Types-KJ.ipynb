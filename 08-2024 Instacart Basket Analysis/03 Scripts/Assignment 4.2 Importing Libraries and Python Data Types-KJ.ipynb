{
 "cells": [
  {
   "cell_type": "markdown",
   "id": "67c22375-9d6a-4fcc-acda-6225bddbfd8e",
   "metadata": {},
   "source": [
    "# Assignment 4.2 Importing Libraries and Python Data Types"
   ]
  },
  {
   "cell_type": "markdown",
   "id": "17470c97-7bd0-4b82-8d8e-2a455ed7c4af",
   "metadata": {},
   "source": [
    "### This Script Contains the Following;\n",
    "#### 01. Importing Libraries \n",
    "#### 02. Data Types"
   ]
  },
  {
   "cell_type": "markdown",
   "id": "b2650b47-d2a4-4cf7-a479-1c1e3c19618e",
   "metadata": {},
   "source": [
    "# 01. Importing Libraries"
   ]
  },
  {
   "cell_type": "code",
   "execution_count": 1,
   "id": "7f56ba69-7dd8-45a8-b0a8-6c77900e7f94",
   "metadata": {},
   "outputs": [],
   "source": [
    "# Import libraries\n",
    "import pandas as pd\n",
    "import numpy as np\n",
    "import os"
   ]
  },
  {
   "cell_type": "markdown",
   "id": "a543366f-8115-4070-8457-07e385ea812c",
   "metadata": {},
   "source": [
    "# 02. Data Types"
   ]
  },
  {
   "cell_type": "code",
   "execution_count": 40,
   "id": "83d5a605-65e4-4d73-8567-fb323d814c3c",
   "metadata": {},
   "outputs": [],
   "source": [
    "# code 3 different ways of reaching a result of 100 by addidng or subtracting numeric values\n",
    "x = 50\n",
    "y = 50"
   ]
  },
  {
   "cell_type": "code",
   "execution_count": 41,
   "id": "25959caf-e4b8-4fe6-b566-0257e02744e7",
   "metadata": {},
   "outputs": [
    {
     "data": {
      "text/plain": [
       "100"
      ]
     },
     "execution_count": 41,
     "metadata": {},
     "output_type": "execute_result"
    }
   ],
   "source": [
    "# Code 100 # 1\n",
    "x + y "
   ]
  },
  {
   "cell_type": "code",
   "execution_count": 42,
   "id": "038aa351-bf02-4871-882d-04653b4f5cd9",
   "metadata": {},
   "outputs": [],
   "source": [
    "# Code 100 # 2\n",
    "a = 150"
   ]
  },
  {
   "cell_type": "code",
   "execution_count": 14,
   "id": "586d593b-0cd4-4698-91de-932f3307b270",
   "metadata": {},
   "outputs": [
    {
     "data": {
      "text/plain": [
       "100"
      ]
     },
     "execution_count": 14,
     "metadata": {},
     "output_type": "execute_result"
    }
   ],
   "source": [
    "a - 50"
   ]
  },
  {
   "cell_type": "code",
   "execution_count": 43,
   "id": "ff359fb5-19ee-454e-8bcc-4e0081590222",
   "metadata": {},
   "outputs": [
    {
     "data": {
      "text/plain": [
       "100"
      ]
     },
     "execution_count": 43,
     "metadata": {},
     "output_type": "execute_result"
    }
   ],
   "source": [
    "# Code 100 # 3\n",
    "a - y"
   ]
  },
  {
   "cell_type": "code",
   "execution_count": 44,
   "id": "ca126867-3d07-4aac-8177-73ec3ac9805a",
   "metadata": {},
   "outputs": [],
   "source": [
    "# multiplication for fun\n",
    "b = 20\n",
    "c = 5"
   ]
  },
  {
   "cell_type": "code",
   "execution_count": 17,
   "id": "c34917a5-663c-41b6-a7a7-3d51ffa945bf",
   "metadata": {},
   "outputs": [
    {
     "data": {
      "text/plain": [
       "100"
      ]
     },
     "execution_count": 17,
     "metadata": {},
     "output_type": "execute_result"
    }
   ],
   "source": [
    "b * c"
   ]
  },
  {
   "cell_type": "code",
   "execution_count": 45,
   "id": "1198e00e-a47b-412a-8d75-f24ba2a6c392",
   "metadata": {},
   "outputs": [],
   "source": [
    "# code 2 floating-point variables and divide them by each other\n",
    "d = 1.5\n",
    "e = 2.5"
   ]
  },
  {
   "cell_type": "code",
   "execution_count": 46,
   "id": "901b104d-20c4-4cc9-907f-0788ee06ffc0",
   "metadata": {},
   "outputs": [
    {
     "data": {
      "text/plain": [
       "1.6666666666666667"
      ]
     },
     "execution_count": 46,
     "metadata": {},
     "output_type": "execute_result"
    }
   ],
   "source": [
    "e / d"
   ]
  },
  {
   "cell_type": "code",
   "execution_count": 47,
   "id": "571880b8-a1d3-4cc7-bbf6-c20199fa6112",
   "metadata": {},
   "outputs": [],
   "source": [
    "# construct a short word made of seperate strings\n",
    "Z = 'rain'\n",
    "Y = 'ing'"
   ]
  },
  {
   "cell_type": "code",
   "execution_count": 38,
   "id": "3ed08159-6e35-4fe6-9ebd-396df765bd2a",
   "metadata": {},
   "outputs": [
    {
     "data": {
      "text/plain": [
       "'raining'"
      ]
     },
     "execution_count": 38,
     "metadata": {},
     "output_type": "execute_result"
    }
   ],
   "source": [
    "Z + Y"
   ]
  },
  {
   "cell_type": "code",
   "execution_count": 52,
   "id": "502b1d4a-c0df-4e3f-82b7-79584241300c",
   "metadata": {},
   "outputs": [],
   "source": [
    "# constrcut 2 short sentences made of separate strings\n",
    "f = 'Hello,'\n",
    "g = ' Sonya.'"
   ]
  },
  {
   "cell_type": "code",
   "execution_count": 53,
   "id": "8ad2bd72-1806-4aed-9c7e-23264c07d239",
   "metadata": {},
   "outputs": [
    {
     "data": {
      "text/plain": [
       "'Hello, Sonya.'"
      ]
     },
     "execution_count": 53,
     "metadata": {},
     "output_type": "execute_result"
    }
   ],
   "source": [
    "f + g"
   ]
  },
  {
   "cell_type": "code",
   "execution_count": 55,
   "id": "a9e88a98-e90e-459b-a6c6-0e7dda308de0",
   "metadata": {},
   "outputs": [],
   "source": [
    "H = ' Good evening and happy Monday!'\n",
    "I = ' Here is my submission for 4.2'"
   ]
  },
  {
   "cell_type": "code",
   "execution_count": 33,
   "id": "b1e5a336-e50b-4419-8f8b-78cc893972b9",
   "metadata": {},
   "outputs": [
    {
     "data": {
      "text/plain": [
       "'Good evening and happy Monday!Here is my submission for 4.2'"
      ]
     },
     "execution_count": 33,
     "metadata": {},
     "output_type": "execute_result"
    }
   ],
   "source": [
    "H + I "
   ]
  },
  {
   "cell_type": "code",
   "execution_count": 56,
   "id": "a1134b2a-c0db-4863-a7f5-73a13b643c27",
   "metadata": {},
   "outputs": [
    {
     "data": {
      "text/plain": [
       "'Hello, Sonya. Good evening and happy Monday! Here is my submission for 4.2'"
      ]
     },
     "execution_count": 56,
     "metadata": {},
     "output_type": "execute_result"
    }
   ],
   "source": [
    "# for fun add them all together\n",
    "f + g + H + I"
   ]
  },
  {
   "cell_type": "code",
   "execution_count": 57,
   "id": "a021894a-72d9-4cc6-98ff-31abc7c25dda",
   "metadata": {},
   "outputs": [
    {
     "data": {
      "text/plain": [
       "'rainrainrainrainrainrainrainrainrainrainrainrainrainrainrainrainrainrainrainrainrainrainrainrainrainrainrainrainrainrainrainrainrainrainrainrainrainrainrainrainrainrainrainrainrainrainrainrainrainrainrainrainrainrainrainrainrainrainrainrainrainrainrainrainrainrainrainrainrainrainrainrainrainrainrainrainrainrainrainrainrainrainrainrainrainrainrainrainrainrainrainrainrainrainrainrainrainrainrainrain'"
      ]
     },
     "execution_count": 57,
     "metadata": {},
     "output_type": "execute_result"
    }
   ],
   "source": [
    "# Bonus Task : Write a command that makes a string appear 100 times\n",
    "Z * 100"
   ]
  }
 ],
 "metadata": {
  "kernelspec": {
   "display_name": "Python 3 (ipykernel)",
   "language": "python",
   "name": "python3"
  },
  "language_info": {
   "codemirror_mode": {
    "name": "ipython",
    "version": 3
   },
   "file_extension": ".py",
   "mimetype": "text/x-python",
   "name": "python",
   "nbconvert_exporter": "python",
   "pygments_lexer": "ipython3",
   "version": "3.12.4"
  }
 },
 "nbformat": 4,
 "nbformat_minor": 5
}
